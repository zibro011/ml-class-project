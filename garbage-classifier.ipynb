{
 "cells": [
  {
   "cell_type": "markdown",
   "metadata": {},
   "source": [
    "# Garbage Image Classifier"
   ]
  },
  {
   "cell_type": "markdown",
   "metadata": {},
   "source": [
    "## EDA"
   ]
  },
  {
   "cell_type": "code",
   "execution_count": 1,
   "metadata": {},
   "outputs": [
    {
     "data": {
      "text/html": [
       "<div>\n",
       "<style scoped>\n",
       "    .dataframe tbody tr th:only-of-type {\n",
       "        vertical-align: middle;\n",
       "    }\n",
       "\n",
       "    .dataframe tbody tr th {\n",
       "        vertical-align: top;\n",
       "    }\n",
       "\n",
       "    .dataframe thead th {\n",
       "        text-align: right;\n",
       "    }\n",
       "</style>\n",
       "<table border=\"1\" class=\"dataframe\">\n",
       "  <thead>\n",
       "    <tr style=\"text-align: right;\">\n",
       "      <th></th>\n",
       "      <th>image_url</th>\n",
       "      <th>label</th>\n",
       "      <th>label_confidence</th>\n",
       "      <th>image_height</th>\n",
       "      <th>image_width</th>\n",
       "    </tr>\n",
       "  </thead>\n",
       "  <tbody>\n",
       "    <tr>\n",
       "      <th>0</th>\n",
       "      <td>garbagedata/trash60.jpg</td>\n",
       "      <td>trash</td>\n",
       "      <td>1.0</td>\n",
       "      <td>225</td>\n",
       "      <td>225</td>\n",
       "    </tr>\n",
       "    <tr>\n",
       "      <th>1</th>\n",
       "      <td>garbagedata/biological2.jpg</td>\n",
       "      <td>biological</td>\n",
       "      <td>1.0</td>\n",
       "      <td>268</td>\n",
       "      <td>188</td>\n",
       "    </tr>\n",
       "    <tr>\n",
       "      <th>2</th>\n",
       "      <td>garbagedata/photo-1550505095-81378a674395.jpg</td>\n",
       "      <td>plastic</td>\n",
       "      <td>1.0</td>\n",
       "      <td>533</td>\n",
       "      <td>800</td>\n",
       "    </tr>\n",
       "    <tr>\n",
       "      <th>3</th>\n",
       "      <td>garbagedata/metal195.jpg</td>\n",
       "      <td>metal</td>\n",
       "      <td>1.0</td>\n",
       "      <td>384</td>\n",
       "      <td>512</td>\n",
       "    </tr>\n",
       "    <tr>\n",
       "      <th>4</th>\n",
       "      <td>garbagedata/clothes154.jpg</td>\n",
       "      <td>clothes</td>\n",
       "      <td>1.0</td>\n",
       "      <td>408</td>\n",
       "      <td>400</td>\n",
       "    </tr>\n",
       "  </tbody>\n",
       "</table>\n",
       "</div>"
      ],
      "text/plain": [
       "                                       image_url       label  \\\n",
       "0                        garbagedata/trash60.jpg       trash   \n",
       "1                    garbagedata/biological2.jpg  biological   \n",
       "2  garbagedata/photo-1550505095-81378a674395.jpg     plastic   \n",
       "3                       garbagedata/metal195.jpg       metal   \n",
       "4                     garbagedata/clothes154.jpg     clothes   \n",
       "\n",
       "   label_confidence  image_height  image_width  \n",
       "0               1.0           225          225  \n",
       "1               1.0           268          188  \n",
       "2               1.0           533          800  \n",
       "3               1.0           384          512  \n",
       "4               1.0           408          400  "
      ]
     },
     "execution_count": 1,
     "metadata": {},
     "output_type": "execute_result"
    }
   ],
   "source": [
    "#upload data and take a look\n",
    "from azureml.core import Workspace, Dataset\n",
    "\n",
    "subscription_id = '8d16a056-4695-4f8e-98cf-1bc5d49226f8'\n",
    "resource_group = 'directedstudy'\n",
    "workspace_name = 'garbage-classifier'\n",
    "\n",
    "workspace = Workspace(subscription_id, resource_group, workspace_name)\n",
    "\n",
    "dataset = Dataset.get_by_name(workspace, name='garpics_20220411_185253')\n",
    "df = dataset.to_pandas_dataframe()\n",
    "df.head()"
   ]
  },
  {
   "cell_type": "code",
   "execution_count": 11,
   "metadata": {},
   "outputs": [
    {
     "data": {
      "text/plain": [
       "plastic        239\n",
       "trash          215\n",
       "green_glass    205\n",
       "cardboard      204\n",
       "brown_glass    202\n",
       "paper          199\n",
       "white_glass    198\n",
       "biological     198\n",
       "metal          198\n",
       "battery        198\n",
       "clothes        196\n",
       "Name: label, dtype: int64"
      ]
     },
     "execution_count": 11,
     "metadata": {},
     "output_type": "execute_result"
    }
   ],
   "source": [
    "#see how many images we have for each label\n",
    "df['label'].value_counts()"
   ]
  },
  {
   "cell_type": "code",
   "execution_count": 14,
   "metadata": {},
   "outputs": [
    {
     "data": {
      "text/plain": [
       "plastic        175\n",
       "trash          166\n",
       "green_glass    162\n",
       "cardboard      158\n",
       "metal          151\n",
       "brown_glass    150\n",
       "biological     146\n",
       "paper          146\n",
       "clothes        146\n",
       "battery        146\n",
       "white_glass    143\n",
       "Name: label, dtype: int64"
      ]
     },
     "execution_count": 14,
     "metadata": {},
     "output_type": "execute_result"
    }
   ],
   "source": [
    "#split into two dataframes 75% and 25%\n",
    "part_75 = df.sample(frac = 0.75)\n",
    "part_25 = df.drop(part_75.index)\n",
    "\n",
    "# verify the split is random by comparing value counts of each\n",
    "part_75['label'].value_counts()\n"
   ]
  },
  {
   "cell_type": "code",
   "execution_count": 15,
   "metadata": {},
   "outputs": [
    {
     "data": {
      "text/plain": [
       "plastic        64\n",
       "white_glass    55\n",
       "paper          53\n",
       "brown_glass    52\n",
       "biological     52\n",
       "battery        52\n",
       "clothes        50\n",
       "trash          49\n",
       "metal          47\n",
       "cardboard      46\n",
       "green_glass    43\n",
       "Name: label, dtype: int64"
      ]
     },
     "execution_count": 15,
     "metadata": {},
     "output_type": "execute_result"
    }
   ],
   "source": [
    "# verify the split is random by comparing value counts of each\n",
    "part_25['label'].value_counts()"
   ]
  }
 ],
 "metadata": {
  "interpreter": {
   "hash": "cac4749ce6e64bfd07fafd5bf9c175e86cc05b1d81ce0d05824a22ecc489c963"
  },
  "kernelspec": {
   "display_name": "Python 3.6.9 64-bit ('azureml_py36': conda)",
   "language": "python",
   "name": "python3"
  },
  "language_info": {
   "codemirror_mode": {
    "name": "ipython",
    "version": 3
   },
   "file_extension": ".py",
   "mimetype": "text/x-python",
   "name": "python",
   "nbconvert_exporter": "python",
   "pygments_lexer": "ipython3",
   "version": "3.6.9"
  },
  "orig_nbformat": 4
 },
 "nbformat": 4,
 "nbformat_minor": 2
}
