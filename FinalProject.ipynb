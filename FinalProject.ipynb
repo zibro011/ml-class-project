{
 "cells": [
  {
   "cell_type": "markdown",
   "metadata": {},
   "source": [
    "# Problem Statement:\n",
    " The purpose of this project is to build and train a machine learning model to classify images. The dataset comes from Kaggle and is titled 'Garbage Collective Data For Nature Conservation'. It consists of over 15,000 image files of objects in the following categories: battery, biological, brown glass, cardboard, clothes, green glass, metal, paper, plastic, shoes, trash, and white glass."
   ]
  },
  {
   "cell_type": "markdown",
   "metadata": {},
   "source": [
    "# Data Preprocessing: \n",
    "* Remove shoes category: Shoes are not something that is generally thrown away every day by the average individual, so to minimize the size of my data set and simplify my model, I deleted this category. If this model were to be deployed at a larger scale, I would add this category back in. \n",
    "* Labeling project: I imported 2,225 files to Azure Data Labeling. There, I manually labeled each image as its respective category. If I had the time and resources to expand this project in the future, I would include all 15,000 files and write a script to label them.\n",
    "* Register dataset: Once my labeling project was complete, I registered the labeled data as a tabular dataset within Azure Machine Learning."
   ]
  },
  {
   "cell_type": "markdown",
   "metadata": {},
   "source": [
    "# Approach:\n",
    "* Azure AutoML: Due to difficulty with Azure and my personal computer, I made the decision to train models using the Automated ML user interface within the Machine Learning Studio. This is convenient because it requires no code, but the downside is a lack of customization. If I had access to a remote GPU, I would have preformed more data preprocessing using Jupyter Notebooks. One process that I especially missed out on using is optimizing k for my k-fold cross validation. In an attempt to make up for this, I will run three seperate experiments within AutoML using different values for my k-fold cross validation.\n",
    "* Primary metric: I chose weighted AUC for my primary metric for two reasons that I found in Google's Machine Learning Crash Course. Firstly, AUC is scale-invariant which means \"it measures how well predictions are ranked, rather than their absolute values\". Second, AUC is classification-threshold-invariant which means \"it measures the quality of the model's predictions irrespective of what classification threshold is chosen\". These are important in my case because I did not have exactly equal numbers of samples in each class. Ultimately, I chose this metric because it is most common in image classification in comparison to the other metrics offered by AutoML."
   ]
  },
  {
   "cell_type": "markdown",
   "metadata": {},
   "source": [
    "## Experiment 1:\n",
    "* k = 5\n",
    "* best model: Voting Ensemble\n",
    "* AUC weighted: 0.81937"
   ]
  },
  {
   "cell_type": "code",
   "execution_count": 1,
   "metadata": {},
   "outputs": [],
   "source": [
    "from IPython.display import SVG, display\n",
    "def show_svg():\n",
    "    display(SVG(url='file:///Users/adelaidezibrowski/Downloads/precision-recall.svg'))"
   ]
  },
  {
   "cell_type": "markdown",
   "metadata": {},
   "source": [
    "## Experiment 2:\n",
    "* k = \n",
    "* best model:  \n",
    "* AUC weighted: "
   ]
  },
  {
   "cell_type": "markdown",
   "metadata": {},
   "source": [
    "## Experiment 3:\n",
    "* k = \n",
    "* best model:  \n",
    "* AUC weighted: "
   ]
  },
  {
   "cell_type": "markdown",
   "metadata": {},
   "source": [
    "## Experiment 4:\n",
    "* k = \n",
    "* best model:  \n",
    "* AUC weighted: "
   ]
  },
  {
   "cell_type": "markdown",
   "metadata": {},
   "source": [
    "# Results:\n",
    "* Best Experiment:"
   ]
  }
 ],
 "metadata": {
  "interpreter": {
   "hash": "31f2aee4e71d21fbe5cf8b01ff0e069b9275f58929596ceb00d14d90e3e16cd6"
  },
  "kernelspec": {
   "display_name": "Python 3.6.9 64-bit",
   "language": "python",
   "name": "python3"
  },
  "language_info": {
   "codemirror_mode": {
    "name": "ipython",
    "version": 3
   },
   "file_extension": ".py",
   "mimetype": "text/x-python",
   "name": "python",
   "nbconvert_exporter": "python",
   "pygments_lexer": "ipython3",
   "version": "3.8.9"
  },
  "orig_nbformat": 4
 },
 "nbformat": 4,
 "nbformat_minor": 2
}
